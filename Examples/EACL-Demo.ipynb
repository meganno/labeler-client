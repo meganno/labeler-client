{
 "cells": [
  {
   "cell_type": "markdown",
   "id": "ecefbb1e",
   "metadata": {},
   "source": [
    "# MEGAnno+\n",
    "\n",
    "This is a demo notebook for EACL 2024 System demonstration submission 'MEGAnno+: A Human-LLM Collaborative Annotation tool'.\n",
    "MEGAnno+ makes it convenient and easy for users to annotate their datasets using LLMs, and also verify the LLM annotations. "
   ]
  },
  {
   "cell_type": "markdown",
   "id": "67edc49c",
   "metadata": {},
   "source": [
    "## Connecting to the service\n",
    "\n",
    "We provide a shared project to simuliate the real-world collaboration among data science practitioners. This project is pre-loaded with a natural language inference (NLI) dataset ([link](https://github.com/alisawuffles/wanli)).\n",
    "\n",
    "In order to use MegAnno+, we require an authentication to connect. For the purposes of the demo in the review process, we provide some authnetication keys for the reviewers to use. Note that token sharing is for the demostration purposes only, and might cause potential overwrite of other's annotation."
   ]
  },
  {
   "cell_type": "code",
   "execution_count": null,
   "id": "b9a545da",
   "metadata": {},
   "outputs": [],
   "source": [
    "demo_tok_1 = 'gAAAAABlW8yJ3hqiuMi-R-5zz5hAzFQLujQOS_w31REt9npE1hifSR80dVOIn1KGQ9pKNdXLOrjdti33B02sFFL6IpB0YVUARUomu9IsIjanLYTA3BPHfSduOrKrnynEgOc_nL6-4DY06Zeend0I6nAamuTjHTe5J173sJfMV_lbnFHi8RlPYL2X0U_iSrX4e9BCy55lfUkHgVRstdDuo1JeT0qbBCOcZN_la0pjgKWIms115T5Hn4AAgoTyPqV2KkGcHsctdbIc'\n",
    "demo_tok_2 = 'gAAAAABlW8y8j-VhfeJ2s-nSE_qTtlqe4nXoMg8fjU_F6ZWXOJ8ZGAm_nKHsKNl_mP0objyn8dNArFfeBlY4Yie-x0Ojvml14Bu6N23TWjORrroV3PGGAKfXptZ8g5IMQM33eNdmcnnsjZOCV4Xc86nLm5qOLzJ0huw0OgDm5CpvbEvgefSIfiMUSo4urjixYr7W09EZhzBRZdBT99lMagF67Y3wcc-WPJ_XIyVjRFGYAxf928GQNWSC1G1OjUoe0CJk9TWbi085'\n",
    "demo_tok_3 = 'gAAAAABlW8zpsp4e7LYt0cZe0WpITpyajEaURdGSIBgD3ALnIMJPYZ9Y3CN0oDFuza9BjJjufLfKfrfzS7DXaUj-CacBZeVIw9s6_EjtrMymvYVvSyRjHccUPWDvcje_ROgaO7zG5EaP9mMlzE2L2pQg1TXwy9dkjOQ6D07JByDqF91M5_Bt4_X692lx8Lkeqaa4lfAzSjqHM2yXs5gC2gOqNk9SPCJtz-1qLOdyGq-ttydeW4xs7EYNca3qTx97beO617G1ya4e'"
   ]
  },
  {
   "cell_type": "code",
   "execution_count": null,
   "id": "efa1f697",
   "metadata": {},
   "outputs": [],
   "source": [
    "demo_token = demo_tok_1 # select any one demo token"
   ]
  },
  {
   "cell_type": "code",
   "execution_count": null,
   "id": "e7051e1e",
   "metadata": {},
   "outputs": [],
   "source": [
    "# connect to service\n",
    "from labeler_client import Authentication, Service\n",
    "demo_auth = Authentication(project='public_demo', access_token=demo_token)\n",
    "service = Service(project='public_demo', token=demo_token)"
   ]
  },
  {
   "cell_type": "markdown",
   "id": "9b9236c6",
   "metadata": {},
   "source": [
    "## Use Case:\n",
    "We now take you through the use case described in our paper. Moana is a Data Scientist working at a popular newspaper. Moana needs to train a model analyzing the degree of agreement between user comments and political opinion pieces — e.g., whether the comments entail the opinion. Moana needs to collect the training data quickly so decides to use MegAnno+.\n",
    "\n",
    "### Set labeling schema\n",
    "She sets the labeling schema for the task below as \"entailment\" and \"not entailment\""
   ]
  },
  {
   "cell_type": "code",
   "execution_count": null,
   "id": "18388228",
   "metadata": {},
   "outputs": [],
   "source": [
    "# set labeling schema\n",
    "service.get_schemas().set_schemas({\n",
    "    'label_schema': [\n",
    "        {\n",
    "            \"name\": \"natural language inference\",\n",
    "            \"level\": \"record\",\n",
    "            \"options\": [\n",
    "                { \"value\": \"entailment\", \"text\": \"entailment\" },\n",
    "                { \"value\": \"not_entailment\", \"text\": \"not_entailment\" },\n",
    "            ]\n",
    "        }\n",
    "    ]\n",
    "})"
   ]
  },
  {
   "cell_type": "code",
   "execution_count": null,
   "id": "51a1d1cd",
   "metadata": {},
   "outputs": [],
   "source": [
    "# retrieve label schema\n",
    "label_schema = service.get_schemas().value(active=True)[0]['schemas']['label_schema']\n",
    "print(label_schema)"
   ]
  },
  {
   "cell_type": "markdown",
   "id": "b5b1ea17",
   "metadata": {},
   "source": [
    "### Review data, (optional) perform human annotation\n",
    "Moana reviews the dataset she wants annotated in our widget. Using the search capabilities and bulk annotation techniques of MegAnno, she knows she can annotate the dataset by herself too."
   ]
  },
  {
   "cell_type": "code",
   "execution_count": null,
   "id": "958e1954",
   "metadata": {},
   "outputs": [],
   "source": [
    "# search results => subset\n",
    "subset = service.search(limit=20)\n",
    "# bring up a widget \n",
    "subset.show()"
   ]
  },
  {
   "cell_type": "markdown",
   "id": "7fe7242f",
   "metadata": {},
   "source": [
    "However, because she needs these annotations quickly without putting too much effort in at the moment. She decides to use LLM annotators."
   ]
  },
  {
   "cell_type": "markdown",
   "id": "e1cfedff",
   "metadata": {},
   "source": [
    "### Model and prompt selection \n",
    "\n",
    "Moana chooses text-davinci-003 as her LLM and opts to go for the default prompt template provided by MegAnno+. She reviews it as follows:"
   ]
  },
  {
   "cell_type": "code",
   "execution_count": null,
   "id": "50c26cb3",
   "metadata": {},
   "outputs": [],
   "source": [
    "# select model configuration\n",
    "model_config = {'model': 'text-davinci-003'}"
   ]
  },
  {
   "cell_type": "code",
   "execution_count": null,
   "id": "b1bf4575",
   "metadata": {},
   "outputs": [],
   "source": [
    "# set prompt template\n",
    "from labeler_client import PromptTemplate\n",
    "label_name = 'natural language inference'\n",
    "template = PromptTemplate(label_schema, [label_name])\n",
    "# open up a widget to preview\n",
    "template.preview(records=['[sample input]', 'Premise: In a small city, a private company may not be able to provide enough of the basic services that a city needs.\\nHypothesis: A private company cannot provide the basic services that a city needs.'])"
   ]
  },
  {
   "cell_type": "markdown",
   "id": "148bcfaf",
   "metadata": {},
   "source": [
    "### Get LLM Annotations \n",
    "\n",
    "Moana simply calls the `Controller` of MegAnno+ which prepares all the prompts, makes the call to the LLM API to obtain label responses, handles any errors that may have been encountered, and post-processes the LLM responses to store the necessary label and metadata (in this case, confidence scores) information. "
   ]
  },
  {
   "cell_type": "code",
   "execution_count": null,
   "id": "2f093502",
   "metadata": {},
   "outputs": [],
   "source": [
    "# connect to controller\n",
    "from labeler_client import Controller\n",
    "controller = Controller(service, demo_auth)"
   ]
  },
  {
   "cell_type": "code",
   "execution_count": null,
   "id": "eb228a29",
   "metadata": {},
   "outputs": [],
   "source": [
    "# create a new agent\n",
    "agent_uuid = controller.create_agent(model_config, template)"
   ]
  },
  {
   "cell_type": "code",
   "execution_count": null,
   "id": "855b26b8",
   "metadata": {},
   "outputs": [],
   "source": [
    "# select subset\n",
    "subset = service.search(limit=20)\n",
    "# run a LLM annotation job\n",
    "job_uuid = controller.run_job(agent_uuid, subset, label_name)"
   ]
  },
  {
   "cell_type": "markdown",
   "id": "d47bbcb0",
   "metadata": {},
   "source": [
    "### Human Verification\n",
    "\n",
    "Moana now can take a look at the labels with which the dataset is annotated using the LLM. "
   ]
  },
  {
   "cell_type": "code",
   "execution_count": null,
   "id": "43c5894f",
   "metadata": {},
   "outputs": [],
   "source": [
    "# open a verification widget for the job\n",
    "verf_subset = service.search_by_job(job_id=job_uuid, verified=False)\n",
    "verf_subset.show({\"title\": \"Verification\", \"view\": \"table\", \"mode\": \"verifying\"})"
   ]
  },
  {
   "cell_type": "markdown",
   "id": "053fa557",
   "metadata": {},
   "source": [
    "## Iterations\n",
    "Moana now decides to change the schema of the task. "
   ]
  },
  {
   "cell_type": "code",
   "execution_count": null,
   "id": "8514b95e",
   "metadata": {},
   "outputs": [],
   "source": [
    "# update labeling schema\n",
    "service.get_schemas().set_schemas({\n",
    "    'label_schema': [\n",
    "        {\n",
    "            \"name\": \"natural language inference\",\n",
    "            \"level\": \"record\",\n",
    "            \"options\": [\n",
    "                { \"value\": \"entailment\", \"text\": \"entailment\" },\n",
    "                { \"value\": \"neutral\", \"text\": \"neutral\" },\n",
    "                { \"value\": \"contradiction\", \"text\": \"contradiction\" },\n",
    "            ]\n",
    "        }\n",
    "    ]\n",
    "})\n",
    "label_schema2 = service.get_schemas().value(active=True)[0]['schemas']['label_schema']\n",
    "print(label_schema)"
   ]
  },
  {
   "cell_type": "markdown",
   "id": "74b2a958",
   "metadata": {},
   "source": [
    "She also considers utilizing a new agent and changing some of the LLM parameters such as temperature to 0."
   ]
  },
  {
   "cell_type": "code",
   "execution_count": null,
   "id": "b82c94e7",
   "metadata": {},
   "outputs": [],
   "source": [
    "# select model configuration\n",
    "model_config2 = {'model': 'text-davinci-003', 'temperature': 0}"
   ]
  },
  {
   "cell_type": "markdown",
   "id": "16c1a87c",
   "metadata": {},
   "source": [
    "She also previews the template and makes some customizations."
   ]
  },
  {
   "cell_type": "code",
   "execution_count": null,
   "id": "5089cddb",
   "metadata": {},
   "outputs": [],
   "source": [
    "# set prompt template\n",
    "template2 = PromptTemplate(label_schema2, [label_name])\n",
    "template2.preview(records=['[sample input]', 'Premise: In a small city, a private company may not be able to provide enough of the basic services that a city needs.\\nHypothesis: A private company cannot provide the basic services that a city needs.'])"
   ]
  },
  {
   "cell_type": "markdown",
   "id": "29c4bf2e",
   "metadata": {},
   "source": [
    "Moana registers a new agent and runs a new job with the same subset."
   ]
  },
  {
   "cell_type": "code",
   "execution_count": null,
   "id": "21d76e53",
   "metadata": {},
   "outputs": [],
   "source": [
    "# create a new agent\n",
    "agent_uuid = controller.create_agent(model_config2, template2)"
   ]
  },
  {
   "cell_type": "code",
   "execution_count": null,
   "id": "2842eb82",
   "metadata": {},
   "outputs": [],
   "source": [
    "# run a LLM annotation job\n",
    "job_uuid = controller.run_job(agent_uuid, subset, label_name)"
   ]
  },
  {
   "cell_type": "markdown",
   "id": "b0dbee21",
   "metadata": {},
   "source": [
    "### Export\n",
    "Labels collected by all annotators can be exported."
   ]
  },
  {
   "cell_type": "code",
   "execution_count": null,
   "id": "c38f2238",
   "metadata": {},
   "outputs": [],
   "source": [
    "# export all labels\n",
    "service.export()"
   ]
  },
  {
   "cell_type": "code",
   "execution_count": null,
   "id": "36f6f164",
   "metadata": {},
   "outputs": [],
   "source": []
  }
 ],
 "metadata": {
  "kernelspec": {
   "display_name": "Python 3 (ipykernel)",
   "language": "python",
   "name": "python3"
  },
  "language_info": {
   "codemirror_mode": {
    "name": "ipython",
    "version": 3
   },
   "file_extension": ".py",
   "mimetype": "text/x-python",
   "name": "python",
   "nbconvert_exporter": "python",
   "pygments_lexer": "ipython3",
   "version": "3.9.18"
  }
 },
 "nbformat": 4,
 "nbformat_minor": 5
}
